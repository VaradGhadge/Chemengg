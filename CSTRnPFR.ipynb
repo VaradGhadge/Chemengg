{
 "cells": [
  {
   "cell_type": "code",
   "execution_count": 1,
   "id": "1c2e48cd",
   "metadata": {
    "scrolled": true
   },
   "outputs": [],
   "source": [
    "import numpy as np\n",
    "import scipy.integrate as scint\n",
    "from scipy.integrate import quad\n",
    "\n",
    "volflrate_inlet = 0.2\n",
    "volflrate_outlet = 0.2\n",
    "molflrate_i  = 30\n",
    "molflrate_o  = 30\n",
    "inletconc = 150\n",
    "outletconc = 105\n",
    "\n",
    "k = 40\n",
    "xa= 0.3\n",
    "e=0.8\n"
   ]
  },
  {
   "cell_type": "code",
   "execution_count": 2,
   "id": "4ce6104e",
   "metadata": {},
   "outputs": [
    {
     "name": "stdout",
     "output_type": "stream",
     "text": [
      "-7 158298797548828.16\n",
      "-6 1507607595703.125\n",
      "-5 14358167578.125002\n",
      "-4 136744453.12499997\n",
      "-3 1302328.125\n",
      "-2 12403.125\n",
      "-1 118.12499999999999\n",
      "0 1.125\n",
      "1 0.010714285714285714\n",
      "2 0.00010204081632653062\n",
      "3 9.718172983479105e-07\n",
      "4 9.255402841408672e-09\n",
      "5 8.814669372770165e-11\n",
      "6 8.394923212162061e-13\n"
     ]
    }
   ],
   "source": [
    "#CSTR\n",
    "for i in range(-7,7):\n",
    "    rate =-k*(outletconc**i)\n",
    "    time=(outletconc-inletconc)/rate\n",
    "    volumecstr=time*volflrate_inlet\n",
    "    print(i,time)\n",
    "\n",
    "\n",
    "\n"
   ]
  },
  {
   "cell_type": "code",
   "execution_count": 3,
   "id": "b9900e69",
   "metadata": {
    "scrolled": true
   },
   "outputs": [
    {
     "name": "stdout",
     "output_type": "stream",
     "text": [
      "-7 754732837694091.8\n",
      "-6 5599584670479.911\n",
      "-5 41877205664.0625\n",
      "-4 315873421.875\n",
      "-3 2404371.09375\n",
      "-2 18478.125\n",
      "-1 143.4375\n",
      "0 1.125\n",
      "2 7.142857142857143e-05\n",
      "3 5.782312925170068e-07\n",
      "4 4.729510851959832e-09\n",
      "5 3.907322566214695e-11\n",
      "6 3.2591946183505254e-13\n"
     ]
    }
   ],
   "source": [
    "#PFR\n",
    "for i in range(-7,7):\n",
    "    if i == 1:\n",
    "        continue  \n",
    "    else:\n",
    "        time=((outletconc**(1-i))-(inletconc**(1-i)))/((i-1)*k)\n",
    "        volumepfr=time*volflrate_inlet\n",
    "        print(i,time)"
   ]
  },
  {
   "cell_type": "code",
   "execution_count": 4,
   "id": "e807ed96",
   "metadata": {},
   "outputs": [
    {
     "name": "stdout",
     "output_type": "stream",
     "text": [
      "order: -7 time 35117680216060.938\n",
      "order: -6 time 414723080646.81494\n",
      "order: -5 time 4897682095.257625\n",
      "order: -4 time 57839293.31542338\n",
      "order: -3 time 683054.5115345238\n",
      "order: -2 time 8066.548517169614\n",
      "order: -1 time 95.26209677419354\n",
      "order: 0 time 1.125\n",
      "order: 1 time 0.013285714285714286\n",
      "order: 2 time 0.00015689795918367349\n",
      "order: 3 time 1.8528901846452867e-06\n",
      "order: 4 time 2.1881750752001485e-08\n",
      "order: 5 time 2.584130564998271e-10\n",
      "order: 6 time 3.05173514342653e-12\n"
     ]
    }
   ],
   "source": [
    "#variable volume cstr\n",
    "for i in range(-7,7):\n",
    "    rate =-k*((inletconc*((1-xa)/(1+e*xa)))**i)\n",
    "    time=((inletconc*((1-xa)/(1+e*xa))*(1+e*xa))-inletconc)/rate\n",
    "    print(\"order:\",i,\"time\",time)\n",
    "\n"
   ]
  },
  {
   "cell_type": "code",
   "execution_count": 5,
   "id": "29acfc17",
   "metadata": {},
   "outputs": [
    {
     "name": "stdout",
     "output_type": "stream",
     "text": [
      "-7 time: 28320709851662.047\n",
      "-6 time: 334454097295.8184\n",
      "-5 time: 3949743625.2077613\n",
      "-4 time: 46644591.38340593\n",
      "-3 time: 550850.4125278417\n",
      "-2 time: 6505.281062233559\n",
      "-1 time: 76.82427159209156\n",
      "0 time: 0.907258064516129\n",
      "2 time: 0.000126530612244898\n",
      "3 time: 1.4942662779397475e-06\n",
      "4 time: 1.764657318709797e-08\n",
      "5 time: 2.0839762620953791e-10\n",
      "6 time: 2.461076728569782e-12\n"
     ]
    }
   ],
   "source": [
    "#variable volume pfr\n",
    "\n",
    "for i in range(-7,7):\n",
    "    if i == 1:\n",
    "        continue  \n",
    "    else:\n",
    "        def f(x):\n",
    "            return -molflrate_i/(-k*((inletconc*((1-xa)/(1+e*xa)))**i)*volflrate_inlet*(1+e*xa))\n",
    "        result, error = quad(f, 0, 0.30)\n",
    "        print(i,\"time:\",result)\n",
    "\n"
   ]
  },
  {
   "cell_type": "code",
   "execution_count": null,
   "id": "ecbb2e91",
   "metadata": {},
   "outputs": [],
   "source": [
    "\n",
    "    \n"
   ]
  },
  {
   "cell_type": "code",
   "execution_count": null,
   "id": "45fb662a",
   "metadata": {},
   "outputs": [],
   "source": []
  }
 ],
 "metadata": {
  "kernelspec": {
   "display_name": "Python 3 (ipykernel)",
   "language": "python",
   "name": "python3"
  },
  "language_info": {
   "codemirror_mode": {
    "name": "ipython",
    "version": 3
   },
   "file_extension": ".py",
   "mimetype": "text/x-python",
   "name": "python",
   "nbconvert_exporter": "python",
   "pygments_lexer": "ipython3",
   "version": "3.9.13"
  }
 },
 "nbformat": 4,
 "nbformat_minor": 5
}
