{
 "cells": [
  {
   "cell_type": "code",
   "execution_count": null,
   "id": "3ef0524d",
   "metadata": {},
   "outputs": [],
   "source": [
    "import numpy as np\n",
    "import pandas as pd\n",
    "\n",
    "# Set random seed for reproducibility\n",
    "np.random.seed(42)\n",
    "\n",
    "# Number of data points (over a million)\n",
    "n_samples = 1_000_000_000\n",
    "\n",
    "# Generate random values for controlling parameters\n",
    "pipe_diameter = np.random.uniform(0.01, 1.0, n_samples)  # Pipe diameter in meters (0.01 to 1 m)\n",
    "fluid_velocity = np.random.uniform(0.1, 10.0, n_samples)  # Fluid velocity in m/s (0.1 to 10 m/s)\n",
    "fluid_density = np.random.uniform(800, 1000, n_samples)  # Fluid density in kg/m^3 (e.g., oil/water)\n",
    "dynamic_viscosity = np.random.uniform(0.0005, 0.01, n_samples)  # Dynamic viscosity in Pa·s\n",
    "surface_roughness = np.random.uniform(0.00001, 0.005, n_samples)  # Surface roughness in meters\n",
    "\n",
    "# Calculate Reynolds number\n",
    "Reynolds_number = (fluid_density * fluid_velocity * pipe_diameter) / dynamic_viscosity\n",
    "\n",
    "# Generate friction factor using approximations:\n",
    "friction_factor = np.where(\n",
    "    Reynolds_number < 2000,\n",
    "    64 / Reynolds_number,  # Laminar flow (f = 64/Re)\n",
    "    0.079 * Reynolds_number**-0.25  # Turbulent flow (Blasius approximation)\n",
    ")\n",
    "\n",
    "# Create the DataFrame\n",
    "df = pd.DataFrame({\n",
    "    'Pipe Diameter (m)': pipe_diameter,\n",
    "    'Fluid Velocity (m/s)': fluid_velocity,\n",
    "    'Fluid Density (kg/m^3)': fluid_density,\n",
    "    'Dynamic Viscosity (Pa.s)': dynamic_viscosity,\n",
    "    'Surface Roughness (m)': surface_roughness,\n",
    "    'Reynolds Number': Reynolds_number,\n",
    "    'Friction Factor': friction_factor\n",
    "})\n",
    "\n",
    "# Save the dataset as a CSV file\n",
    "output_file = \"reynolds_vs_friction.csv\"\n",
    "df.to_csv(output_file, index=False)\n",
    "\n",
    "print(f\"Dataset with {n_samples} rows saved as {output_file}\")\n"
   ]
  },
  {
   "cell_type": "code",
   "execution_count": null,
   "id": "347e2ad9",
   "metadata": {},
   "outputs": [],
   "source": []
  },
  {
   "cell_type": "code",
   "execution_count": null,
   "id": "eaff6b77",
   "metadata": {},
   "outputs": [],
   "source": []
  }
 ],
 "metadata": {
  "kernelspec": {
   "display_name": "Python 3 (ipykernel)",
   "language": "python",
   "name": "python3"
  },
  "language_info": {
   "codemirror_mode": {
    "name": "ipython",
    "version": 3
   },
   "file_extension": ".py",
   "mimetype": "text/x-python",
   "name": "python",
   "nbconvert_exporter": "python",
   "pygments_lexer": "ipython3",
   "version": "3.9.13"
  }
 },
 "nbformat": 4,
 "nbformat_minor": 5
}
